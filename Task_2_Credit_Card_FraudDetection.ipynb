{
  "cells": [
    {
      "cell_type": "code",
      "execution_count": null,
      "metadata": {
        "id": "6L8vh0Q4qU2Z"
      },
      "outputs": [],
      "source": [
        "import pandas as pd\n",
        "# Load the training and testing datasets\n",
        "train_url =\"/content/fraudTrain.csv\"\n",
        "test_url = \"/content/fraudTest.csv\"\n",
        "\n",
        "train_data = pd.read_csv(train_url)\n",
        "test_data = pd.read_csv(test_url)\n"
      ]
    },
    {
      "cell_type": "code",
      "execution_count": null,
      "metadata": {
        "colab": {
          "base_uri": "https://localhost:8080/"
        },
        "id": "vsF_v8mrq5Is",
        "outputId": "1e3f1645-b724-477b-868f-e302717fa50a"
      },
      "outputs": [
        {
          "name": "stdout",
          "output_type": "stream",
          "text": [
            "First few rows of the training dataset:\n",
            "   Unnamed: 0 trans_date_trans_time            cc_num  \\\n",
            "0           0   2019-01-01 00:00:18  2703186189652095   \n",
            "1           1   2019-01-01 00:00:44      630423337322   \n",
            "2           2   2019-01-01 00:00:51    38859492057661   \n",
            "3           3   2019-01-01 00:01:16  3534093764340240   \n",
            "4           4   2019-01-01 00:03:06   375534208663984   \n",
            "\n",
            "                             merchant       category     amt      first  \\\n",
            "0          fraud_Rippin, Kub and Mann       misc_net    4.97   Jennifer   \n",
            "1     fraud_Heller, Gutmann and Zieme    grocery_pos  107.23  Stephanie   \n",
            "2                fraud_Lind-Buckridge  entertainment  220.11     Edward   \n",
            "3  fraud_Kutch, Hermiston and Farrell  gas_transport   45.00     Jeremy   \n",
            "4                 fraud_Keeling-Crist       misc_pos   41.96      Tyler   \n",
            "\n",
            "      last gender                        street  ...      lat      long  \\\n",
            "0    Banks      F                561 Perry Cove  ...  36.0788  -81.1781   \n",
            "1     Gill      F  43039 Riley Greens Suite 393  ...  48.8878 -118.2105   \n",
            "2  Sanchez      M      594 White Dale Suite 530  ...  42.1808 -112.2620   \n",
            "3    White      M   9443 Cynthia Court Apt. 038  ...  46.2306 -112.1138   \n",
            "4   Garcia      M              408 Bradley Rest  ...  38.4207  -79.4629   \n",
            "\n",
            "   city_pop                                job         dob  \\\n",
            "0      3495          Psychologist, counselling  1988-03-09   \n",
            "1       149  Special educational needs teacher  1978-06-21   \n",
            "2      4154        Nature conservation officer  1962-01-19   \n",
            "3      1939                    Patent attorney  1967-01-12   \n",
            "4        99     Dance movement psychotherapist  1986-03-28   \n",
            "\n",
            "                          trans_num     unix_time  merch_lat  merch_long  \\\n",
            "0  0b242abb623afc578575680df30655b9  1.325376e+09  36.011293  -82.048315   \n",
            "1  1f76529f8574734946361c461b024d99  1.325376e+09  49.159047 -118.186462   \n",
            "2  a1a22d70485983eac12b5b88dad1cf95  1.325376e+09  43.150704 -112.154481   \n",
            "3  6b849c168bdad6f867558c3793159a81  1.325376e+09  47.034331 -112.561071   \n",
            "4  a41d7549acf90789359a9aa5346dcb46  1.325376e+09  38.674999  -78.632459   \n",
            "\n",
            "   is_fraud  \n",
            "0       0.0  \n",
            "1       0.0  \n",
            "2       0.0  \n",
            "3       0.0  \n",
            "4       0.0  \n",
            "\n",
            "[5 rows x 23 columns]\n"
          ]
        }
      ],
      "source": [
        "print(\"First few rows of the training dataset:\")\n",
        "print(train_data.head())"
      ]
    },
    {
      "cell_type": "code",
      "execution_count": null,
      "metadata": {
        "colab": {
          "base_uri": "https://localhost:8080/"
        },
        "id": "t_Z4XjhMq7O-",
        "outputId": "f2d3639a-238f-4800-f18c-77c0ca09a2a1"
      },
      "outputs": [
        {
          "name": "stdout",
          "output_type": "stream",
          "text": [
            "\n",
            "First few rows of the testing dataset:\n",
            "   Unnamed: 0 trans_date_trans_time            cc_num  \\\n",
            "0           0   2020-06-21 12:14:25  2291163933867244   \n",
            "1           1   2020-06-21 12:14:33  3573030041201292   \n",
            "2           2   2020-06-21 12:14:53  3598215285024754   \n",
            "3           3   2020-06-21 12:15:15  3591919803438423   \n",
            "4           4   2020-06-21 12:15:17  3526826139003047   \n",
            "\n",
            "                               merchant        category    amt   first  \\\n",
            "0                 fraud_Kirlin and Sons   personal_care   2.86    Jeff   \n",
            "1                  fraud_Sporer-Keebler   personal_care  29.84  Joanne   \n",
            "2  fraud_Swaniawski, Nitzsche and Welch  health_fitness  41.28  Ashley   \n",
            "3                     fraud_Haley Group        misc_pos  60.05   Brian   \n",
            "4                 fraud_Johnston-Casper          travel   3.19  Nathan   \n",
            "\n",
            "       last gender                       street  ...      lat      long  \\\n",
            "0   Elliott      M            351 Darlene Green  ...  33.9659  -80.9355   \n",
            "1  Williams      F             3638 Marsh Union  ...  40.3207 -110.4360   \n",
            "2     Lopez      F         9333 Valentine Point  ...  40.6729  -73.5365   \n",
            "3  Williams      M  32941 Krystal Mill Apt. 552  ...  28.5697  -80.8191   \n",
            "4    Massey      M     5783 Evan Roads Apt. 465  ...  44.2529  -85.0170   \n",
            "\n",
            "   city_pop                     job         dob  \\\n",
            "0  333497.0     Mechanical engineer  1968-03-19   \n",
            "1     302.0  Sales professional, IT  1990-01-17   \n",
            "2   34496.0       Librarian, public  1970-10-21   \n",
            "3   54767.0            Set designer  1987-07-25   \n",
            "4    1126.0      Furniture designer  1955-07-06   \n",
            "\n",
            "                          trans_num     unix_time  merch_lat  merch_long  \\\n",
            "0  2da90c7d74bd46a0caf3777415b3ebd3  1.371817e+09  33.986391  -81.200714   \n",
            "1  324cc204407e99f51b0d6ca0055005e7  1.371817e+09  39.450498 -109.960431   \n",
            "2  c81755dbbbea9d5c77f094348a7579be  1.371817e+09  40.495810  -74.196111   \n",
            "3  2159175b9efe66dc301f149d3d5abf8c  1.371817e+09  28.812398  -80.883061   \n",
            "4  57ff021bd3f328f8738bb535c302a31b  1.371817e+09  44.959148  -85.884734   \n",
            "\n",
            "   is_fraud  \n",
            "0       0.0  \n",
            "1       0.0  \n",
            "2       0.0  \n",
            "3       0.0  \n",
            "4       0.0  \n",
            "\n",
            "[5 rows x 23 columns]\n"
          ]
        }
      ],
      "source": [
        "print(\"\\nFirst few rows of the testing dataset:\")\n",
        "print(test_data.head())"
      ]
    },
    {
      "cell_type": "code",
      "execution_count": null,
      "metadata": {
        "colab": {
          "base_uri": "https://localhost:8080/"
        },
        "id": "cL5AG-yZq-w8",
        "outputId": "92989e11-e120-49a9-84a2-80e0656af802"
      },
      "outputs": [
        {
          "name": "stdout",
          "output_type": "stream",
          "text": [
            "\n",
            "Summary statistics of the training dataset:\n",
            "        Unnamed: 0        cc_num           amt           zip           lat  \\\n",
            "count  11706.00000  1.170600e+04  11706.000000  11706.000000  11706.000000   \n",
            "mean    5852.50000  4.258380e+17     68.760918  49212.270203     38.562065   \n",
            "std     3379.37546  1.320777e+18    113.379429  27100.223974      5.173634   \n",
            "min        0.00000  6.041621e+10      1.010000   1257.000000     20.027100   \n",
            "25%     2926.25000  1.800462e+14      9.750000  26041.000000     34.743700   \n",
            "50%     5852.50000  3.521417e+15     48.495000  48438.000000     39.371600   \n",
            "75%     8778.75000  4.642255e+15     83.122500  72165.000000     41.846700   \n",
            "max    11705.00000  4.992346e+18   3178.510000  99783.000000     65.689900   \n",
            "\n",
            "               long      city_pop     unix_time     merch_lat    merch_long  \\\n",
            "count  11706.000000  1.170600e+04  1.170500e+04  11705.000000  11705.000000   \n",
            "mean     -90.540940  8.952011e+04  1.325688e+09     38.560738    -90.535437   \n",
            "std       14.353408  3.001465e+05  1.873839e+05      5.199968     14.375129   \n",
            "min     -165.672300  2.300000e+01  1.325376e+09     19.165823   -166.550779   \n",
            "25%      -97.060900  7.430000e+02  1.325511e+09     34.831130    -97.161258   \n",
            "50%      -87.644300  2.408000e+03  1.325704e+09     39.360761    -87.632339   \n",
            "75%      -80.158000  1.940800e+04  1.325863e+09     41.896736    -80.226861   \n",
            "max      -67.950300  2.906700e+06  1.325969e+09     66.645176    -66.967742   \n",
            "\n",
            "           is_fraud  \n",
            "count  11705.000000  \n",
            "mean       0.004101  \n",
            "std        0.063909  \n",
            "min        0.000000  \n",
            "25%        0.000000  \n",
            "50%        0.000000  \n",
            "75%        0.000000  \n",
            "max        1.000000  \n"
          ]
        }
      ],
      "source": [
        "print(\"\\nSummary statistics of the training dataset:\")\n",
        "print(train_data.describe())"
      ]
    },
    {
      "cell_type": "code",
      "execution_count": null,
      "metadata": {
        "colab": {
          "background_save": true
        },
        "id": "fnUym3RDr3EG",
        "outputId": "265a864a-c9ca-45a0-ecc4-dea88be72380"
      },
      "outputs": [
        {
          "name": "stdout",
          "output_type": "stream",
          "text": [
            "\n",
            "Summary statistics of the testing dataset:\n",
            "         Unnamed: 0        cc_num           amt           zip           lat  \\\n",
            "count  19466.000000  1.946600e+04  19466.000000  19465.000000  19465.000000   \n",
            "mean    9732.500000  4.180289e+17     68.799466  48491.198921     38.528486   \n",
            "std     5619.494506  1.310838e+18    139.379023  26813.873613      5.092329   \n",
            "min        0.000000  6.041621e+10      1.000000   1257.000000     20.027100   \n",
            "25%     4866.250000  1.800482e+14      9.482500  25526.000000     34.620500   \n",
            "50%     9732.500000  3.520550e+15     46.135000  48043.000000     39.371600   \n",
            "75%    14598.750000  4.634956e+15     81.777500  72011.000000     42.015800   \n",
            "max    19465.000000  4.992346e+18   6600.440000  99783.000000     65.689900   \n",
            "\n",
            "               long      city_pop     unix_time     merch_lat    merch_long  \\\n",
            "count  19465.000000  1.946500e+04  1.946500e+04  19465.000000  19465.000000   \n",
            "mean     -90.049245  9.049912e+04  1.372076e+09     38.521391    -90.049769   \n",
            "std       13.625865  3.093242e+05  1.759439e+05      5.130690     13.635438   \n",
            "min     -165.672300  2.300000e+01  1.371817e+09     19.163455   -166.464422   \n",
            "25%      -96.701000  7.600000e+02  1.371924e+09     34.714781    -96.739825   \n",
            "50%      -87.366700  2.470000e+03  1.372027e+09     39.388556    -87.322759   \n",
            "75%      -80.128400  2.047800e+04  1.372235e+09     41.997075    -80.161030   \n",
            "max      -67.950300  2.906700e+06  1.372405e+09     66.669356    -66.955602   \n",
            "\n",
            "           is_fraud  \n",
            "count  19465.000000  \n",
            "mean       0.003493  \n",
            "std        0.059004  \n",
            "min        0.000000  \n",
            "25%        0.000000  \n",
            "50%        0.000000  \n",
            "75%        0.000000  \n",
            "max        1.000000  \n"
          ]
        }
      ],
      "source": [
        "print(\"\\nSummary statistics of the testing dataset:\")\n",
        "print(test_data.describe())"
      ]
    },
    {
      "cell_type": "code",
      "execution_count": null,
      "metadata": {
        "id": "WA1i_naEr1By"
      },
      "outputs": [],
      "source": [
        "print(\"\\nMissing values in each column of the training dataset:\")\n",
        "print(train_data.isnull().sum())"
      ]
    }
  ],
  "metadata": {
    "colab": {
      "provenance": []
    },
    "kernelspec": {
      "display_name": "Python 3",
      "name": "python3"
    },
    "language_info": {
      "name": "python"
    }
  },
  "nbformat": 4,
  "nbformat_minor": 0
}